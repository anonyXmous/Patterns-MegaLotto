{
 "cells": [
  {
   "cell_type": "code",
   "execution_count": 45,
   "metadata": {
    "collapsed": false
   },
   "outputs": [
    {
     "name": "stdout",
     "output_type": "stream",
     "text": [
      "[1] \"0,8\"\n",
      "[1] \"1,26\"\n",
      "[1] \"2,20\"\n",
      "[1] \"3,20\"\n",
      "[1] \"4,20\"\n",
      "[1] \"5,20\"\n",
      "[1] \"6,18\"\n",
      "[1] \"7,14\"\n",
      "[1] \"8,8\"\n",
      "[1] \"9,8\"\n"
     ]
    }
   ],
   "source": [
    "#how to tabulate the occurence of each digits 0-9 from set of numbers 5/75 and 1/15\n",
    "parseStr <- ''\n",
    "for (i in 1:75)\n",
    "  parseStr <- paste(parseStr,i,sep=\"\")\n",
    "for (i in 1:15)\n",
    "  parseStr <- paste(parseStr,i,sep=\"\")\n",
    "#print(parseStr)\n",
    "\n",
    "cols <- 10\n",
    "mat <- matrix(NA, nrow=1, ncol=cols)\n",
    "for (n in 1:cols)  \n",
    "    mat[,n] <- c(n-1)    \n",
    "mat2 <- matrix(NA, nrow=1, ncol=cols)\n",
    "for (n in 1:cols)\n",
    "    mat2[,n] <- c(lengths(regmatches(parseStr, gregexpr(n-1, parseStr))))\n",
    "\n",
    "cmatrix <-rbind(mat,mat2)\n",
    "#print(cmatrix)\n",
    "for (n in 1:cols)     \n",
    "    print(paste(cmatrix[1,n],cmatrix[2,n],sep=\",\")    )"
   ]
  },
  {
   "cell_type": "code",
   "execution_count": 76,
   "metadata": {
    "collapsed": false
   },
   "outputs": [
    {
     "name": "stdout",
     "output_type": "stream",
     "text": [
      "'data.frame':\t351 obs. of  11 variables:\n",
      " $ Draw..     : int  1220 1219 1218 1217 1216 1215 1214 1213 1212 1211 ...\n",
      " $ Draw.Date  : Date, format: \"2017-02-28\" \"2017-02-24\" ...\n",
      " $ Number_1   : int  33 68 32 67 7 32 28 3 3 61 ...\n",
      " $ Number_2   : int  69 29 75 4 11 39 37 30 27 53 ...\n",
      " $ Number_3   : int  58 12 30 75 68 51 23 6 14 54 ...\n",
      " $ Number_4   : int  45 42 21 56 60 62 71 64 72 17 ...\n",
      " $ Number_5   : int  20 33 9 58 33 75 56 29 62 37 ...\n",
      " $ Mega       : int  4 14 9 8 15 14 12 3 4 8 ...\n",
      " $ Draw.Day   : int  2 5 2 5 2 5 2 5 2 5 ...\n",
      " $ CombinedNum: chr  \"33695845204\" \"682912423314\" \"3275302199\" \"6747556588\" ...\n",
      " $ CombinedSum: int  229 198 176 268 194 273 227 135 182 230 ...\n"
     ]
    },
    {
     "data": {
      "text/html": [
       "<table>\n",
       "<thead><tr><th scope=col>CombinedNum</th><th scope=col>CombinedSum</th><th scope=col>CombinedSize</th><th scope=col>Count_1</th><th scope=col>Count_2</th><th scope=col>Count_3</th><th scope=col>Count_4</th><th scope=col>Count_5</th><th scope=col>Count_6</th><th scope=col>Count_7</th><th scope=col>Count_8</th><th scope=col>Count_9</th><th scope=col>Count_0</th></tr></thead>\n",
       "<tbody>\n",
       "\t<tr><td>33695845204 </td><td>229         </td><td>11          </td><td>0           </td><td>1           </td><td>2           </td><td>2           </td><td>2           </td><td>1           </td><td>0           </td><td>1           </td><td>1           </td><td>1           </td></tr>\n",
       "\t<tr><td>682912423314</td><td>198         </td><td>12          </td><td>2           </td><td>3           </td><td>2           </td><td>2           </td><td>0           </td><td>1           </td><td>0           </td><td>1           </td><td>1           </td><td>0           </td></tr>\n",
       "\t<tr><td>3275302199  </td><td>176         </td><td>10          </td><td>1           </td><td>2           </td><td>2           </td><td>0           </td><td>1           </td><td>0           </td><td>1           </td><td>0           </td><td>2           </td><td>1           </td></tr>\n",
       "\t<tr><td>6747556588  </td><td>268         </td><td>10          </td><td>0           </td><td>0           </td><td>0           </td><td>1           </td><td>3           </td><td>2           </td><td>2           </td><td>2           </td><td>0           </td><td>0           </td></tr>\n",
       "\t<tr><td>71168603315 </td><td>194         </td><td>11          </td><td>3           </td><td>0           </td><td>2           </td><td>0           </td><td>1           </td><td>2           </td><td>1           </td><td>1           </td><td>0           </td><td>1           </td></tr>\n",
       "\t<tr><td>323951627514</td><td>273         </td><td>12          </td><td>2           </td><td>2           </td><td>2           </td><td>1           </td><td>2           </td><td>1           </td><td>1           </td><td>0           </td><td>1           </td><td>0           </td></tr>\n",
       "</tbody>\n",
       "</table>\n"
      ],
      "text/latex": [
       "\\begin{tabular}{r|lllllllllllll}\n",
       " CombinedNum & CombinedSum & CombinedSize & Count\\_1 & Count\\_2 & Count\\_3 & Count\\_4 & Count\\_5 & Count\\_6 & Count\\_7 & Count\\_8 & Count\\_9 & Count\\_0\\\\\n",
       "\\hline\n",
       "\t 33695845204  & 229          & 11           & 0            & 1            & 2            & 2            & 2            & 1            & 0            & 1            & 1            & 1           \\\\\n",
       "\t 682912423314 & 198          & 12           & 2            & 3            & 2            & 2            & 0            & 1            & 0            & 1            & 1            & 0           \\\\\n",
       "\t 3275302199   & 176          & 10           & 1            & 2            & 2            & 0            & 1            & 0            & 1            & 0            & 2            & 1           \\\\\n",
       "\t 6747556588   & 268          & 10           & 0            & 0            & 0            & 1            & 3            & 2            & 2            & 2            & 0            & 0           \\\\\n",
       "\t 71168603315  & 194          & 11           & 3            & 0            & 2            & 0            & 1            & 2            & 1            & 1            & 0            & 1           \\\\\n",
       "\t 323951627514 & 273          & 12           & 2            & 2            & 2            & 1            & 2            & 1            & 1            & 0            & 1            & 0           \\\\\n",
       "\\end{tabular}\n"
      ],
      "text/markdown": [
       "\n",
       "CombinedNum | CombinedSum | CombinedSize | Count_1 | Count_2 | Count_3 | Count_4 | Count_5 | Count_6 | Count_7 | Count_8 | Count_9 | Count_0 | \n",
       "|---|---|---|---|---|---|\n",
       "| 33695845204  | 229          | 11           | 0            | 1            | 2            | 2            | 2            | 1            | 0            | 1            | 1            | 1            | \n",
       "| 682912423314 | 198          | 12           | 2            | 3            | 2            | 2            | 0            | 1            | 0            | 1            | 1            | 0            | \n",
       "| 3275302199   | 176          | 10           | 1            | 2            | 2            | 0            | 1            | 0            | 1            | 0            | 2            | 1            | \n",
       "| 6747556588   | 268          | 10           | 0            | 0            | 0            | 1            | 3            | 2            | 2            | 2            | 0            | 0            | \n",
       "| 71168603315  | 194          | 11           | 3            | 0            | 2            | 0            | 1            | 2            | 1            | 1            | 0            | 1            | \n",
       "| 323951627514 | 273          | 12           | 2            | 2            | 2            | 1            | 2            | 1            | 1            | 0            | 1            | 0            | \n",
       "\n",
       "\n"
      ],
      "text/plain": [
       "  CombinedNum  CombinedSum CombinedSize Count_1 Count_2 Count_3 Count_4 Count_5\n",
       "1 33695845204  229         11           0       1       2       2       2      \n",
       "2 682912423314 198         12           2       3       2       2       0      \n",
       "3 3275302199   176         10           1       2       2       0       1      \n",
       "4 6747556588   268         10           0       0       0       1       3      \n",
       "5 71168603315  194         11           3       0       2       0       1      \n",
       "6 323951627514 273         12           2       2       2       1       2      \n",
       "  Count_6 Count_7 Count_8 Count_9 Count_0\n",
       "1 1       0       1       1       1      \n",
       "2 1       0       1       1       0      \n",
       "3 0       1       0       2       1      \n",
       "4 2       2       2       0       0      \n",
       "5 2       1       1       0       1      \n",
       "6 1       1       0       1       0      "
      ]
     },
     "metadata": {},
     "output_type": "display_data"
    },
    {
     "data": {
      "text/plain": [
       "sumOfNumbers.freq.dist\n",
       "  [10,50)   [50,90)  [90,130) [130,170) [170,210) [210,250) [250,290) \n",
       "        0         2        15        91       122        82        32 "
      ]
     },
     "metadata": {},
     "output_type": "display_data"
    },
    {
     "data": {
      "text/html": [
       "'This is the suggested sum of numbers: [170,210)'"
      ],
      "text/latex": [
       "'This is the suggested sum of numbers: {[}170,210)'"
      ],
      "text/markdown": [
       "'This is the suggested sum of numbers: [170,210)'"
      ],
      "text/plain": [
       "[1] \"This is the suggested sum of numbers: [170,210)\""
      ]
     },
     "metadata": {},
     "output_type": "display_data"
    },
    {
     "data": {
      "text/html": [
       "'This is the most common CombinedSum: 172'"
      ],
      "text/latex": [
       "'This is the most common CombinedSum: 172'"
      ],
      "text/markdown": [
       "'This is the most common CombinedSum: 172'"
      ],
      "text/plain": [
       "[1] \"This is the most common CombinedSum: 172\""
      ]
     },
     "metadata": {},
     "output_type": "display_data"
    },
    {
     "data": {
      "text/html": [
       "<table>\n",
       "<tbody>\n",
       "\t<tr><td>0      </td><td>1      </td><td>2      </td><td>3      </td><td>4      </td><td>5      </td><td>6      </td><td>7      </td><td>8      </td><td>9      </td><td>Number </td></tr>\n",
       "\t<tr><td>4.94 % </td><td>16.05 %</td><td>12.35 %</td><td>12.35 %</td><td>12.35 %</td><td>12.35 %</td><td>11.11 %</td><td>8.64 % </td><td>4.94 % </td><td>4.94 % </td><td>Chance </td></tr>\n",
       "</tbody>\n",
       "</table>\n"
      ],
      "text/latex": [
       "\\begin{tabular}{lllllllllll}\n",
       "\t 0       & 1       & 2       & 3       & 4       & 5       & 6       & 7       & 8       & 9       & Number \\\\\n",
       "\t 4.94 \\%  & 16.05 \\% & 12.35 \\% & 12.35 \\% & 12.35 \\% & 12.35 \\% & 11.11 \\% & 8.64 \\%  & 4.94 \\%  & 4.94 \\%  & Chance   \\\\\n",
       "\\end{tabular}\n"
      ],
      "text/markdown": [
       "\n",
       "| 0       | 1       | 2       | 3       | 4       | 5       | 6       | 7       | 8       | 9       | Number  | \n",
       "| 4.94 %  | 16.05 % | 12.35 % | 12.35 % | 12.35 % | 12.35 % | 11.11 % | 8.64 %  | 4.94 %  | 4.94 %  | Chance  | \n",
       "\n",
       "\n"
      ],
      "text/plain": [
       "     [,1]   [,2]    [,3]    [,4]    [,5]    [,6]    [,7]    [,8]   [,9]  \n",
       "[1,] 0      1       2       3       4       5       6       7      8     \n",
       "[2,] 4.94 % 16.05 % 12.35 % 12.35 % 12.35 % 12.35 % 11.11 % 8.64 % 4.94 %\n",
       "     [,10]  [,11] \n",
       "[1,] 9      Number\n",
       "[2,] 4.94 % Chance"
      ]
     },
     "metadata": {},
     "output_type": "display_data"
    },
    {
     "data": {
      "text/plain": [
       "\n",
       "  9  10  11  12 \n",
       " 22  94 161  74 "
      ]
     },
     "metadata": {},
     "output_type": "display_data"
    },
    {
     "data": {
      "text/html": [
       "'This is the suggested size of numbers: 11'"
      ],
      "text/latex": [
       "'This is the suggested size of numbers: 11'"
      ],
      "text/markdown": [
       "'This is the suggested size of numbers: 11'"
      ],
      "text/plain": [
       "[1] \"This is the suggested size of numbers: 11\""
      ]
     },
     "metadata": {},
     "output_type": "display_data"
    },
    {
     "data": {
      "text/html": [
       "'This is the most common sum of patterns: 30'"
      ],
      "text/latex": [
       "'This is the most common sum of patterns: 30'"
      ],
      "text/markdown": [
       "'This is the most common sum of patterns: 30'"
      ],
      "text/plain": [
       "[1] \"This is the most common sum of patterns: 30\""
      ]
     },
     "metadata": {},
     "output_type": "display_data"
    },
    {
     "data": {
      "text/html": [
       "'This is the most common combinedCounts: 2113101010'"
      ],
      "text/latex": [
       "'This is the most common combinedCounts: 2113101010'"
      ],
      "text/markdown": [
       "'This is the most common combinedCounts: 2113101010'"
      ],
      "text/plain": [
       "[1] \"This is the most common combinedCounts: 2113101010\""
      ]
     },
     "metadata": {},
     "output_type": "display_data"
    },
    {
     "data": {
      "text/html": [
       "'how many times?: 2'"
      ],
      "text/latex": [
       "'how many times?: 2'"
      ],
      "text/markdown": [
       "'how many times?: 2'"
      ],
      "text/plain": [
       "[1] \"how many times?: 2\""
      ]
     },
     "metadata": {},
     "output_type": "display_data"
    },
    {
     "data": {
      "text/html": [
       "'This is the most common patterns of combined counts: 34210'"
      ],
      "text/latex": [
       "'This is the most common patterns of combined counts: 34210'"
      ],
      "text/markdown": [
       "'This is the most common patterns of combined counts: 34210'"
      ],
      "text/plain": [
       "[1] \"This is the most common patterns of combined counts: 34210\""
      ]
     },
     "metadata": {},
     "output_type": "display_data"
    },
    {
     "data": {
      "text/html": [
       "'how many times?: 24'"
      ],
      "text/latex": [
       "'how many times?: 24'"
      ],
      "text/markdown": [
       "'how many times?: 24'"
      ],
      "text/plain": [
       "[1] \"how many times?: 24\""
      ]
     },
     "metadata": {},
     "output_type": "display_data"
    },
    {
     "data": {
      "text/html": [
       "'Most pattern is below, use these'"
      ],
      "text/latex": [
       "'Most pattern is below, use these'"
      ],
      "text/markdown": [
       "'Most pattern is below, use these'"
      ],
      "text/plain": [
       "[1] \"Most pattern is below, use these\""
      ]
     },
     "metadata": {},
     "output_type": "display_data"
    },
    {
     "data": {
      "text/html": [
       "<ol class=list-inline>\n",
       "\t<li>'3020121101'</li>\n",
       "\t<li>'2101023110'</li>\n",
       "\t<li>'0110312210'</li>\n",
       "\t<li>'1312020101'</li>\n",
       "\t<li>'1202311100'</li>\n",
       "\t<li>'1202113100'</li>\n",
       "</ol>\n"
      ],
      "text/latex": [
       "\\begin{enumerate*}\n",
       "\\item '3020121101'\n",
       "\\item '2101023110'\n",
       "\\item '0110312210'\n",
       "\\item '1312020101'\n",
       "\\item '1202311100'\n",
       "\\item '1202113100'\n",
       "\\end{enumerate*}\n"
      ],
      "text/markdown": [
       "1. '3020121101'\n",
       "2. '2101023110'\n",
       "3. '0110312210'\n",
       "4. '1312020101'\n",
       "5. '1202311100'\n",
       "6. '1202113100'\n",
       "\n",
       "\n"
      ],
      "text/plain": [
       "[1] \"3020121101\" \"2101023110\" \"0110312210\" \"1312020101\" \"1202311100\"\n",
       "[6] \"1202113100\""
      ]
     },
     "metadata": {},
     "output_type": "display_data"
    },
    {
     "name": "stdout",
     "output_type": "stream",
     "text": [
      "[1] \"Facts:\"\n",
      "[1] \"Number 1 is 16% chance to appear; 2,3,4,5 and 6 is 12%; 9 is 9% and 7,8 and 0 is 5%\"\n",
      "[1] \"Average sum is around 198: min 16 amd max 380\"\n",
      "[1] \"\"\n",
      "[1] \"SUMMARY of Insights:\"\n",
      "[1] \"Sum is between 170 and 210: 35%\"\n",
      "[1] \"The pattern is 3 missing digits from 7-9,0, 3 digits occuring once, 2 twice, 1 once: 33%\"\n",
      "[1] \"Only one one-digit number including mega number: 46%\"\n",
      "[1] \"for ex: below set of numbers has a sum=164; pattern=2113101010 and one one-digit number\"\n",
      "[1] \"11 17 30 66 58 Mega:3\"\n",
      "[1] \"Counter check at http://www.calottery.com/play/draw-games/mega-millions/winning-numbers\"\n",
      "[1] \"mostly 3 numbers are correct\"\n",
      "[1] \"\"\n",
      "[1] \"NEXT STEP: Generate set of numbers based on bday, favorite number, anniversary with below properties\"\n",
      "[1] \"Sum is 172, has one one-digit and pattern 2113101010\"\n"
     ]
    }
   ],
   "source": [
    "##### library(dplyr)\n",
    "# load the MASS package and suppress warning about masked functions\n",
    "library(MASS, warn.conflicts = FALSE)            \n",
    "\n",
    "# Copied a function for mode since R has no build in function for mode???\n",
    "# thanks to http://stackoverflow.com/users/169947/ken-williams who answered this in stackoverflow\n",
    "\n",
    "getmode <- function(v) {\n",
    "   uniqv <- unique(v)\n",
    "   uniqv[which.max(tabulate(match(v, uniqv)))]\n",
    "}\n",
    "getmode2 <- function(v) {\n",
    "   uniqv <- unique(v)\n",
    "   uniqv <- uniqv[uniqv != getmode(v)]\n",
    "   uniqv[which.max(tabulate(match(v, uniqv)))]\n",
    "}\n",
    "#download the latest file at http://www.calottery.com/sitecore/content/Miscellaneous/download-numbers/?GameName=mega-millions&Order=No\n",
    "#save to local C: drive\n",
    "myData <- read.csv(\"C:/megamillions.csv\")\n",
    "\n",
    "#convert date string to date\n",
    "myData$Draw.Date <- as.Date(myData$Draw.Date,  \"%a. %b %d, %Y\")  \n",
    "\n",
    "#add column on day of the draw (2-Tues, 5-Frid)\n",
    "myData$Draw.Day <- as.integer(strftime(myData$Draw.Date,'%u'))   \n",
    "\n",
    "#megamillions changed the number set to 1-75 in Oct 22, 2013 and decreased the odds of winning\n",
    "#prior Oct 18, 2013: 5/56 + Mega: 1/46   after Oct 18, 2013: 5/75 + Mega: 1/15 \n",
    "df <- subset(myData, myData$Draw.Date > as.Date('2013-10-19'))   \n",
    "\n",
    "#parse all winnings numbers into a string\n",
    "df$CombinedNum <- paste(df$Number_1,df$Number_2,df$Number_3,df$Number_4,df$Number_5,df$Mega,sep=\"\")\n",
    "#get the summ of all winning numbers per draw\n",
    "df$CombinedSum <- (df$Number_1+df$Number_2+df$Number_3+df$Number_4+df$Number_5+df$Mega)\n",
    "str(df)\n",
    "\n",
    "#get the length of parsed numbers\n",
    "df$CombinedSize <- nchar(df$CombinedNum)\n",
    "\n",
    "#create new columns to count how many times a number (0-9) occurs\n",
    "df$Count_1 <- lengths(regmatches(df$CombinedNum, gregexpr(\"1\", df$CombinedNum)))\n",
    "df$Count_2 <- lengths(regmatches(df$CombinedNum, gregexpr(\"2\", df$CombinedNum)))\n",
    "df$Count_3 <- lengths(regmatches(df$CombinedNum, gregexpr(\"3\", df$CombinedNum)))\n",
    "df$Count_4 <- lengths(regmatches(df$CombinedNum, gregexpr(\"4\", df$CombinedNum)))\n",
    "df$Count_5 <- lengths(regmatches(df$CombinedNum, gregexpr(\"5\", df$CombinedNum)))\n",
    "df$Count_6 <- lengths(regmatches(df$CombinedNum, gregexpr(\"6\", df$CombinedNum)))\n",
    "df$Count_7 <- lengths(regmatches(df$CombinedNum, gregexpr(\"7\", df$CombinedNum)))\n",
    "df$Count_8 <- lengths(regmatches(df$CombinedNum, gregexpr(\"8\", df$CombinedNum)))\n",
    "df$Count_9 <- lengths(regmatches(df$CombinedNum, gregexpr(\"9\", df$CombinedNum)))\n",
    "df$Count_0 <- lengths(regmatches(df$CombinedNum, gregexpr(\"0\", df$CombinedNum)))\n",
    "\n",
    "#created a new data frame with 13 columns from the right\n",
    "newDf <- df[, c(tail(seq_len(ncol(df)), 13))]\n",
    "head(newDf)\n",
    "\n",
    "#apply the same technique of parsing the counts\n",
    "newDf$combinedCounts <- paste(df$Count_1,df$Count_2,df$Count_3,df$Count_4,df$Count_5,df$Count_6,df$Count_7,df$Count_8,df$Count_9,df$Count_0,sep=\"\")\n",
    "\n",
    "#same with counting earlier\n",
    "newDf$combCount_0 <- lengths(regmatches(newDf$combinedCounts, gregexpr(\"0\", newDf$combinedCounts)))\n",
    "newDf$combCount_1 <- lengths(regmatches(newDf$combinedCounts, gregexpr(\"1\", newDf$combinedCounts)))\n",
    "newDf$combCount_2 <- lengths(regmatches(newDf$combinedCounts, gregexpr(\"2\", newDf$combinedCounts)))\n",
    "newDf$combCount_3 <- lengths(regmatches(newDf$combinedCounts, gregexpr(\"3\", newDf$combinedCounts)))\n",
    "newDf$combCount_4 <- lengths(regmatches(newDf$combinedCounts, gregexpr(\"4\", newDf$combinedCounts)))\n",
    "\n",
    "#######end of creating columns #########\n",
    "#      start of data analyis  \n",
    "########################################\n",
    "colSum <- newDf$CombinedSum\n",
    "breaks <- seq(10, 310, by=40)\n",
    "sumOfNumbers.freq.dist <- cut(colSum, breaks, right=FALSE)\n",
    "table(sumOfNumbers.freq.dist)\n",
    "sprintf(\"This is the suggested sum of numbers: %s\", '[170,210)')\n",
    "sprintf(\"This is the most common CombinedSum: %s\", getmode(newDf$CombinedSum))\n",
    "\n",
    "#display the chance of each digit in set of the winning numbers\n",
    "cMatrixLbl <- matrix(c('Number','Chance'),nrow=2,ncol=1)\n",
    "\n",
    "#tabulate how many ways can 0-9 appears in the winning numbers\n",
    "cMatrix <- matrix(c(0,8,1,26,2,20,3,20,4,20,5,20,6,18,7,14,8,8,9,8),nrow=2,ncol=10)\n",
    "cMatrix[2,] <- paste(round(cMatrix[2,]/sum(cMatrix[2,])*100,digits=2),'%')\n",
    "cMatrixFinal <- cbind(cMatrix,cMatrixLbl)\n",
    "cMatrixFinal\n",
    "\n",
    "#apply the table function\n",
    "table(df$CombinedSize)   \n",
    "sprintf(\"This is the suggested size of numbers: %s\", getmode(df$CombinedSize))\n",
    "\n",
    "finalDf <- newDf[, c(tail(seq_len(ncol(newDf)), 6))]\n",
    "finalDf$sumSq <-  (newDf$combCount_0^2+newDf$combCount_1^2+newDf$combCount_2^2+newDf$combCount_3^2+newDf$combCount_4^2)\n",
    "\n",
    "sprintf(\"This is the most common sum of patterns: %s\", getmode(finalDf$sumSq))\n",
    "\n",
    "sprintf(\"This is the most common combinedCounts: %s\", getmode(newDf$combinedCounts))\n",
    "cntCombCnts <- nrow(filter(newDf, combinedCounts == getmode(newDf$combinedCounts)))\n",
    "sprintf(\"how many times?: %s\", cntCombCnts)\n",
    "\n",
    "newDf$cntCombNum <- paste(newDf$combCount_0,newDf$combCount_1,newDf$combCount_2,newDf$combCount_3,newDf$combCount_4,sep=\"\")\n",
    "sprintf(\"This is the most common patterns of combined counts: %s\", getmode(newDf$cntCombNum))\n",
    "cntCombNum <- nrow(filter(newDf, cntCombNum == getmode(newDf$cntCombNum)))\n",
    "sprintf(\"how many times?: %s\", cntCombNum)\n",
    "\n",
    "subfinaldf <- subset(newDf, newDf$cntCombNum == getmode(newDf$cntCombNum))\n",
    "subpatterns <- subfinaldf[, c(tail(seq_len(ncol(subfinaldf)), 7))]\n",
    "sprintf(\"Most pattern is below, use these\") \n",
    "head(subpatterns$combinedCounts)\n",
    "\n",
    "########## summary ###########\n",
    "print(\"Facts:\")\n",
    "print(\"Number 1 is 16% chance to appear; 2,3,4,5 and 6 is 12%; 9 is 9% and 7,8 and 0 is 5%\")\n",
    "print(\"Average sum is around 198: min 16 amd max 380\")\n",
    "print(\"\")\n",
    "print(\"SUMMARY of Insights:\")\n",
    "print(\"Sum is between 170 and 210: 35%\")\n",
    "print(\"The pattern is 3 missing digits from 7-9,0, 3 digits occuring once, 2 twice, 1 once: 33%\")\n",
    "print(\"Only one one-digit number including mega number: 46%\")\n",
    "print(\"for ex: below set of numbers has a sum=164; pattern=2113101010 and one one-digit number\")\n",
    "print(\"11 17 30 66 58 Mega:3\")\n",
    "print(\"Counter check at http://www.calottery.com/play/draw-games/mega-millions/winning-numbers\")\n",
    "print(\"mostly 3 numbers are correct\")\n",
    "\n",
    "print(\"\")\n",
    "print(\"NEXT STEP: Generate set of numbers based on bday, favorite number, anniversary with below properties\")\n",
    "print(\"Sum is 172, has one one-digit and pattern 2113101010\")\n",
    "\n"
   ]
  },
  {
   "cell_type": "code",
   "execution_count": null,
   "metadata": {
    "collapsed": true
   },
   "outputs": [],
   "source": []
  }
 ],
 "metadata": {
  "kernelspec": {
   "display_name": "R",
   "language": "R",
   "name": "ir"
  },
  "language_info": {
   "codemirror_mode": "r",
   "file_extension": ".r",
   "mimetype": "text/x-r-source",
   "name": "R",
   "pygments_lexer": "r",
   "version": "3.3.2"
  }
 },
 "nbformat": 4,
 "nbformat_minor": 2
}
